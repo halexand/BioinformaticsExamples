{
 "cells": [
  {
   "cell_type": "code",
   "execution_count": 8,
   "metadata": {
    "collapsed": false
   },
   "outputs": [
    {
     "name": "stdout",
     "output_type": "stream",
     "text": [
      "software\n"
     ]
    }
   ],
   "source": [
    "word = 'software'\n",
    "print word\n",
    "\n"
   ]
  },
  {
   "cell_type": "code",
   "execution_count": 9,
   "metadata": {
    "collapsed": false
   },
   "outputs": [
    {
     "name": "stdout",
     "output_type": "stream",
     "text": [
      "s\n",
      "o\n",
      "f\n",
      "t\n",
      "w\n",
      "a\n",
      "r\n",
      "e\n"
     ]
    }
   ],
   "source": [
    "for letter in word:\n",
    "    print letter\n",
    "    "
   ]
  },
  {
   "cell_type": "code",
   "execution_count": 11,
   "metadata": {
    "collapsed": false
   },
   "outputs": [
    {
     "name": "stdout",
     "output_type": "stream",
     "text": [
      "The loop variable is now: e\n"
     ]
    }
   ],
   "source": [
    "for letter in word:\n",
    "    pass #do nothing\n",
    "\n",
    "print 'The loop variable is now: '+ letter"
   ]
  },
  {
   "cell_type": "code",
   "execution_count": 4,
   "metadata": {
    "collapsed": true
   },
   "outputs": [],
   "source": [
    "import os\n",
    "import pandas as pd"
   ]
  },
  {
   "cell_type": "code",
   "execution_count": 16,
   "metadata": {
    "collapsed": false
   },
   "outputs": [
    {
     "data": {
      "text/plain": [
       "['bouldercreek_09_2013.txt',\n",
       " 'plots.csv',\n",
       " 'portal_mammals.sqlite',\n",
       " 'species.csv',\n",
       " 'speciesSubset.csv',\n",
       " 'survey2001.csv',\n",
       " 'survey2002.csv',\n",
       " 'surveys.csv',\n",
       " 'yearly_files']"
      ]
     },
     "execution_count": 16,
     "metadata": {},
     "output_type": "execute_result"
    }
   ],
   "source": [
    "# os.mkdir('data/yearly_files')\n",
    "os.listdir('data')"
   ]
  },
  {
   "cell_type": "code",
   "execution_count": 17,
   "metadata": {
    "collapsed": true
   },
   "outputs": [],
   "source": [
    "surveys_df = pd.read_csv('data/surveys.csv')"
   ]
  },
  {
   "cell_type": "code",
   "execution_count": 20,
   "metadata": {
    "collapsed": false
   },
   "outputs": [
    {
     "data": {
      "text/plain": [
       "0     False\n",
       "1     False\n",
       "2     False\n",
       "3     False\n",
       "4     False\n",
       "5     False\n",
       "6     False\n",
       "7     False\n",
       "8     False\n",
       "9     False\n",
       "10    False\n",
       "11    False\n",
       "12    False\n",
       "13    False\n",
       "14    False\n",
       "...\n",
       "35534    True\n",
       "35535    True\n",
       "35536    True\n",
       "35537    True\n",
       "35538    True\n",
       "35539    True\n",
       "35540    True\n",
       "35541    True\n",
       "35542    True\n",
       "35543    True\n",
       "35544    True\n",
       "35545    True\n",
       "35546    True\n",
       "35547    True\n",
       "35548    True\n",
       "Name: year, Length: 35549, dtype: bool"
      ]
     },
     "execution_count": 20,
     "metadata": {},
     "output_type": "execute_result"
    }
   ],
   "source": [
    "#reminder: you can do this: take a logical statement\n",
    "\n",
    "surveys_df.year == 2002"
   ]
  },
  {
   "cell_type": "code",
   "execution_count": 22,
   "metadata": {
    "collapsed": false
   },
   "outputs": [],
   "source": [
    "surveys2002=surveys_df[surveys_df.year == 2002]"
   ]
  },
  {
   "cell_type": "code",
   "execution_count": 24,
   "metadata": {
    "collapsed": false
   },
   "outputs": [],
   "source": [
    "#Super convinent to write this to a csv file\n",
    "surveys2002.to_csv('data/yearly_files/suveys2002.csv')"
   ]
  },
  {
   "cell_type": "markdown",
   "metadata": {},
   "source": [
    "## Goal: write a function to create a new csv file for every year in the dataset\n"
   ]
  },
  {
   "cell_type": "code",
   "execution_count": 28,
   "metadata": {
    "collapsed": false
   },
   "outputs": [
    {
     "data": {
      "text/plain": [
       "count    35549.000000\n",
       "mean      1990.475231\n",
       "std          7.493355\n",
       "min       1977.000000\n",
       "25%       1984.000000\n",
       "50%       1990.000000\n",
       "75%       1997.000000\n",
       "max       2002.000000\n",
       "Name: year, dtype: float64"
      ]
     },
     "execution_count": 28,
     "metadata": {},
     "output_type": "execute_result"
    }
   ],
   "source": [
    "#first, check max/min years: everyone try this. \n",
    "surveys_df.year.describe()"
   ]
  },
  {
   "cell_type": "code",
   "execution_count": 30,
   "metadata": {
    "collapsed": false
   },
   "outputs": [
    {
     "name": "stdout",
     "output_type": "stream",
     "text": [
      "Help on built-in function range in module __builtin__:\n",
      "\n",
      "range(...)\n",
      "    range([start,] stop[, step]) -> list of integers\n",
      "    \n",
      "    Return a list containing an arithmetic progression of integers.\n",
      "    range(i, j) returns [i, i+1, i+2, ..., j-1]; start (!) defaults to 0.\n",
      "    When step is given, it specifies the increment (or decrement).\n",
      "    For example, range(4) returns [0, 1, 2, 3].  The end point is omitted!\n",
      "    These are exactly the valid indices for a list of 4 elements.\n",
      "\n"
     ]
    }
   ],
   "source": [
    "help(range)\n",
    "#play around with range and figure out what numbers we should use for getting 1977 - 2002"
   ]
  },
  {
   "cell_type": "code",
   "execution_count": 33,
   "metadata": {
    "collapsed": false,
    "scrolled": true
   },
   "outputs": [
    {
     "name": "stdout",
     "output_type": "stream",
     "text": [
      "data/yearly_files/surveys1977.csv\n",
      "data/yearly_files/surveys1978.csv\n",
      "data/yearly_files/surveys1979.csv\n",
      "data/yearly_files/surveys1980.csv\n",
      "data/yearly_files/surveys1981.csv\n",
      "data/yearly_files/surveys1982.csv\n",
      "data/yearly_files/surveys1983.csv\n",
      "data/yearly_files/surveys1984.csv\n",
      "data/yearly_files/surveys1985.csv\n",
      "data/yearly_files/surveys1986.csv\n",
      "data/yearly_files/surveys1987.csv\n",
      "data/yearly_files/surveys1988.csv\n",
      "data/yearly_files/surveys1989.csv\n",
      "data/yearly_files/surveys1990.csv\n",
      "data/yearly_files/surveys1991.csv\n",
      "data/yearly_files/surveys1992.csv\n",
      "data/yearly_files/surveys1993.csv\n",
      "data/yearly_files/surveys1994.csv\n",
      "data/yearly_files/surveys1995.csv\n",
      "data/yearly_files/surveys1996.csv\n",
      "data/yearly_files/surveys1997.csv\n",
      "data/yearly_files/surveys1998.csv\n",
      "data/yearly_files/surveys1999.csv\n",
      "data/yearly_files/surveys2000.csv\n",
      "data/yearly_files/surveys2001.csv\n",
      "data/yearly_files/surveys2002.csv\n"
     ]
    }
   ],
   "source": [
    "for year in range(1977, 2003):\n",
    "    filename = 'data/yearly_files/surveys' + str(year) + '.csv'\n",
    "    print filename"
   ]
  },
  {
   "cell_type": "code",
   "execution_count": 34,
   "metadata": {
    "collapsed": false,
    "scrolled": true
   },
   "outputs": [
    {
     "name": "stdout",
     "output_type": "stream",
     "text": [
      "   record_id  month  day  year  plot species sex  wgt\n",
      "0          1      7   16  1977     2     NaN   M  NaN\n",
      "     record_id  month  day  year  plot species  sex  wgt\n",
      "503        504      1    8  1978     3      OL  NaN  NaN\n",
      "      record_id  month  day  year  plot species sex  wgt\n",
      "1551       1552      1   28  1979    22      DM   F   37\n",
      "      record_id  month  day  year  plot species sex  wgt\n",
      "2270       2271      1   15  1980     8      DO   M   53\n",
      "      record_id  month  day  year  plot species sex  wgt\n",
      "3685       3686      1   11  1981    11      DM   M   34\n",
      "      record_id  month  day  year  plot species sex  wgt\n",
      "5157       5158      1    1  1982     1      DO   F   49\n",
      "      record_id  month  day  year  plot species sex  wgt\n",
      "7135       7136      1   12  1983    12      DO   M   48\n",
      "      record_id  month  day  year  plot species sex  wgt\n",
      "8808       8809      2    4  1984    16      RM   F    7\n",
      "      record_id  month  day  year  plot species sex  wgt\n",
      "9789       9790      1   19  1985    16      RM   F    4\n",
      "       record_id  month  day  year  plot species sex  wgt\n",
      "11227      11228      3    8  1986    12      DS   M  119\n",
      "       record_id  month  day  year  plot species sex  wgt\n",
      "12169      12170      1   31  1987    16      RM   F   11\n",
      "       record_id  month  day  year  plot species sex  wgt\n",
      "13840      13841      1   23  1988    22      DM   M   45\n",
      "       record_id  month  day  year  plot species sex  wgt\n",
      "15309      15310      1   10  1989    21      OT   M   24\n",
      "       record_id  month  day  year  plot species sex  wgt\n",
      "16878      16879      1    6  1990     1      DM   F   35\n",
      "       record_id  month  day  year  plot species sex  wgt\n",
      "18189      18190      1   11  1991     7      RM   F   11\n",
      "       record_id  month  day  year  plot species sex  wgt\n",
      "19536      19537      1    8  1992    21      RM   M   11\n",
      "       record_id  month  day  year  plot species  sex  wgt\n",
      "20574      20575      1   23  1993     1      DO  NaN  NaN\n",
      "       record_id  month  day  year  plot species sex  wgt\n",
      "21324      21325      2    1  1994     2      DM   M   39\n",
      "       record_id  month  day  year  plot species sex  wgt\n",
      "21992      21993      1   11  1995    18      PF   F    7\n",
      "       record_id  month  day  year  plot species sex  wgt\n",
      "23214      23215      1   27  1996    21      PF   F    7\n",
      "       record_id  month  day  year  plot species sex  wgt\n",
      "24920      24921      2    8  1997     2      PB   M   32\n",
      "       record_id  month  day  year  plot species sex  wgt\n",
      "27413      27414      1   31  1998    12      DM   F   41\n",
      "       record_id  month  day  year  plot species sex  wgt\n",
      "29023      29024      1   16  1999     1      DM   F   41\n",
      "       record_id  month  day  year  plot species sex  wgt\n",
      "30158      30159      1    8  2000     1      PP   F   17\n",
      "       record_id  month  day  year  plot species sex  wgt\n",
      "31710      31711      1   21  2001     1      PB   F   25\n",
      "       record_id  month  day  year  plot species sex  wgt\n",
      "33320      33321      1   12  2002     1      DM   M   44\n"
     ]
    }
   ],
   "source": [
    "surveys_df = pd.read_csv('data/surveys.csv')\n",
    "\n",
    "for year in range(1977,2003):\n",
    "    #select our data\n",
    "    surveys_year = surveys_df[surveys_df.year == year]\n",
    "    #Just to check it out\n",
    "    print surveys_year.head(1)"
   ]
  },
  {
   "cell_type": "code",
   "execution_count": 38,
   "metadata": {
    "collapsed": false,
    "scrolled": true
   },
   "outputs": [],
   "source": [
    "surveys_df = pd.read_csv('data/surveys.csv')\n",
    "\n",
    "for year in range(1977,2003):\n",
    "    #select our data\n",
    "    surveys_year = surveys_df[surveys_df.year == year]\n",
    "    #Just to check it out\n",
    "    filename = 'data/yearly_files/surveys' + str(year) + '.csv'\n",
    "    surveys_year.to_csv(filename)"
   ]
  },
  {
   "cell_type": "code",
   "execution_count": 39,
   "metadata": {
    "collapsed": false
   },
   "outputs": [
    {
     "name": "stdout",
     "output_type": "stream",
     "text": [
      "data/yearly_files/surveys1977.csv\n",
      "data/yearly_files/surveys1978.csv\n",
      "data/yearly_files/surveys1979.csv\n",
      "data/yearly_files/surveys1980.csv\n",
      "data/yearly_files/surveys1981.csv\n",
      "data/yearly_files/surveys1982.csv\n",
      "data/yearly_files/surveys1983.csv\n",
      "data/yearly_files/surveys1984.csv\n",
      "data/yearly_files/surveys1985.csv\n",
      "data/yearly_files/surveys1986.csv\n",
      "data/yearly_files/surveys1987.csv\n",
      "data/yearly_files/surveys1988.csv\n",
      "data/yearly_files/surveys1989.csv\n",
      "data/yearly_files/surveys1990.csv\n",
      "data/yearly_files/surveys1991.csv\n",
      "data/yearly_files/surveys1992.csv\n",
      "data/yearly_files/surveys1993.csv\n",
      "data/yearly_files/surveys1994.csv\n",
      "data/yearly_files/surveys1995.csv\n",
      "data/yearly_files/surveys1996.csv\n",
      "data/yearly_files/surveys1997.csv\n",
      "data/yearly_files/surveys1998.csv\n",
      "data/yearly_files/surveys1999.csv\n",
      "data/yearly_files/surveys2000.csv\n",
      "data/yearly_files/surveys2001.csv\n",
      "data/yearly_files/surveys2002.csv\n"
     ]
    }
   ],
   "source": []
  },
  {
   "cell_type": "code",
   "execution_count": 42,
   "metadata": {
    "collapsed": false
   },
   "outputs": [
    {
     "name": "stdout",
     "output_type": "stream",
     "text": [
      "Creating file data/yearly_files/function_surveys2002.csv\n"
     ]
    }
   ],
   "source": [
    "def one_year_csv_writer(this_year, all_data):\n",
    "    \"\"\"\n",
    "    Writes a csv file for data from a given year.\n",
    "\n",
    "    this_year --- year for which data is extracted\n",
    "    all_data --- DataFrame with multi-year data\n",
    "    \"\"\"\n",
    "\n",
    "    # Select data for the year\n",
    "    surveys_year = all_data[all_data.year == this_year]\n",
    "\n",
    "    # Write the new DataFrame to a csv file\n",
    "    filename = 'data/yearly_files/function_surveys' + str(this_year) + '.csv'\n",
    "    print 'Creating file '+filename\n",
    "    surveys_year.to_csv(filename)\n",
    "\n",
    "    \n",
    "one_year_csv_writer(2002, surveys_df)"
   ]
  },
  {
   "cell_type": "code",
   "execution_count": 44,
   "metadata": {
    "collapsed": false
   },
   "outputs": [
    {
     "name": "stdout",
     "output_type": "stream",
     "text": [
      "Creating file data/yearly_files/function_surveys1977.csv\n",
      "Creating file data/yearly_files/function_surveys1978.csv\n",
      "Creating file data/yearly_files/function_surveys1979.csv\n",
      "Creating file data/yearly_files/function_surveys1980.csv\n",
      "Creating file data/yearly_files/function_surveys1981.csv\n",
      "Creating file data/yearly_files/function_surveys1982.csv\n",
      "Creating file data/yearly_files/function_surveys1983.csv\n",
      "Creating file data/yearly_files/function_surveys1984.csv\n",
      "Creating file data/yearly_files/function_surveys1985.csv\n",
      "Creating file data/yearly_files/function_surveys1986.csv\n",
      "Creating file data/yearly_files/function_surveys1987.csv\n",
      "Creating file data/yearly_files/function_surveys1988.csv\n",
      "Creating file data/yearly_files/function_surveys1989.csv\n",
      "Creating file data/yearly_files/function_surveys1990.csv\n",
      "Creating file data/yearly_files/function_surveys1991.csv\n",
      "Creating file data/yearly_files/function_surveys1992.csv\n",
      "Creating file data/yearly_files/function_surveys1993.csv\n",
      "Creating file data/yearly_files/function_surveys1994.csv\n",
      "Creating file data/yearly_files/function_surveys1995.csv\n",
      "Creating file data/yearly_files/function_surveys1996.csv\n",
      "Creating file data/yearly_files/function_surveys1997.csv\n",
      "Creating file data/yearly_files/function_surveys1998.csv\n",
      "Creating file data/yearly_files/function_surveys1999.csv\n",
      "Creating file data/yearly_files/function_surveys2000.csv\n",
      "Creating file data/yearly_files/function_surveys2001.csv\n",
      "Creating file data/yearly_files/function_surveys2002.csv\n"
     ]
    }
   ],
   "source": [
    "for year in range(1977, 2003):\n",
    "    one_year_csv_writer(year,surveys_df)\n",
    "    "
   ]
  },
  {
   "cell_type": "code",
   "execution_count": 45,
   "metadata": {
    "collapsed": true
   },
   "outputs": [],
   "source": [
    "def yearly_data_csv_writer(start_year, end_year, all_data):\n",
    "    \"\"\"\n",
    "    Writes separate csv files for each year of data.\n",
    "\n",
    "    start_year --- the first year of data we want\n",
    "    end_year --- the last year of data we want\n",
    "    all_data --- DataFrame with multi-year data\n",
    "    \"\"\"\n",
    "    for year in range(start_year, end_year+1):\n",
    "        one_year_csv_writer(year, all_data)\n",
    "        "
   ]
  },
  {
   "cell_type": "code",
   "execution_count": 46,
   "metadata": {
    "collapsed": false
   },
   "outputs": [
    {
     "name": "stdout",
     "output_type": "stream",
     "text": [
      "Creating file data/yearly_files/function_surveys1977.csv\n",
      "Creating file data/yearly_files/function_surveys1978.csv\n",
      "Creating file data/yearly_files/function_surveys1979.csv\n",
      "Creating file data/yearly_files/function_surveys1980.csv\n",
      "Creating file data/yearly_files/function_surveys1981.csv\n",
      "Creating file data/yearly_files/function_surveys1982.csv\n",
      "Creating file data/yearly_files/function_surveys1983.csv\n",
      "Creating file data/yearly_files/function_surveys1984.csv\n",
      "Creating file data/yearly_files/function_surveys1985.csv\n",
      "Creating file data/yearly_files/function_surveys1986.csv\n",
      "Creating file data/yearly_files/function_surveys1987.csv\n",
      "Creating file data/yearly_files/function_surveys1988.csv\n",
      "Creating file data/yearly_files/function_surveys1989.csv\n",
      "Creating file data/yearly_files/function_surveys1990.csv\n",
      "Creating file data/yearly_files/function_surveys1991.csv\n",
      "Creating file data/yearly_files/function_surveys1992.csv\n",
      "Creating file data/yearly_files/function_surveys1993.csv\n",
      "Creating file data/yearly_files/function_surveys1994.csv\n",
      "Creating file data/yearly_files/function_surveys1995.csv\n",
      "Creating file data/yearly_files/function_surveys1996.csv\n",
      "Creating file data/yearly_files/function_surveys1997.csv\n",
      "Creating file data/yearly_files/function_surveys1998.csv\n",
      "Creating file data/yearly_files/function_surveys1999.csv\n",
      "Creating file data/yearly_files/function_surveys2000.csv\n",
      "Creating file data/yearly_files/function_surveys2001.csv\n",
      "Creating file data/yearly_files/function_surveys2002.csv\n"
     ]
    }
   ],
   "source": [
    "yearly_data_csv_writer(1977,2002, surveys_df)"
   ]
  },
  {
   "cell_type": "markdown",
   "metadata": {},
   "source": [
    "## Challenge:\n",
    "1. Add two arguments to the functions we wrote that take the path of the directory where the files will be written and the root of the file name. Create a new set of files with a different name in a different directory.\n",
    "2. How could you use the function yearly_data_csv_writer to create a csv file for only one year? (Hint: think about the syntax for range)\n",
    "3. Make the functions return a list of the files they have written. There are many ways you can do this (and you should try them all!): either of the functions can print to screen, either can use a return statement to give back numbers or strings to their function call, or you can use some combination of the two. You could also try using the os library to list the contents of directories.\n",
    "4. Explore what happens when variables are declared inside each of the functions versus in the main (non-indented) body of your code. What is the scope of the variables (where are they visible)? What happens when they have the same name but are given different values?\n"
   ]
  },
  {
   "cell_type": "code",
   "execution_count": null,
   "metadata": {
    "collapsed": true
   },
   "outputs": [],
   "source": []
  },
  {
   "cell_type": "code",
   "execution_count": null,
   "metadata": {
    "collapsed": true
   },
   "outputs": [],
   "source": []
  }
 ],
 "metadata": {
  "kernelspec": {
   "display_name": "Python 2",
   "language": "python",
   "name": "python2"
  },
  "language_info": {
   "codemirror_mode": {
    "name": "ipython",
    "version": 2
   },
   "file_extension": ".py",
   "mimetype": "text/x-python",
   "name": "python",
   "nbconvert_exporter": "python",
   "pygments_lexer": "ipython2",
   "version": "2.7.3"
  }
 },
 "nbformat": 4,
 "nbformat_minor": 0
}
